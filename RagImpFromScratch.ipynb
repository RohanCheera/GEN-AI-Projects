{
  "cells": [
    {
      "cell_type": "markdown",
      "metadata": {
        "id": "view-in-github",
        "colab_type": "text"
      },
      "source": [
        "<a href=\"https://colab.research.google.com/github/RohanCheera/GEN-AI-Projects/blob/main/RagImpFromScratch.ipynb\" target=\"_parent\"><img src=\"https://colab.research.google.com/assets/colab-badge.svg\" alt=\"Open In Colab\"/></a>"
      ]
    },
    {
      "cell_type": "code",
      "execution_count": null,
      "id": "e120eee7",
      "metadata": {
        "id": "e120eee7"
      },
      "outputs": [],
      "source": [
        "corpus_of_documents = [\n",
        "    \"Take a leisurely walk in the park and enjoy the fresh air.\",\n",
        "    \"Visit a local museum and discover something new.\",\n",
        "    \"Attend a live music concert and feel the rhythm.\",\n",
        "    \"Go for a hike and admire the natural scenery.\",\n",
        "    \"Have a picnic with friends and share some laughs.\",\n",
        "    \"Explore a new cuisine by dining at an ethnic restaurant.\",\n",
        "    \"Take a yoga class and stretch your body and mind.\",\n",
        "    \"Join a local sports league and enjoy some friendly competition.\",\n",
        "    \"Attend a workshop or lecture on a topic you're interested in.\",\n",
        "    \"Visit an amusement park and ride the roller coasters.\"\n",
        "]"
      ]
    },
    {
      "cell_type": "code",
      "execution_count": null,
      "id": "ab2e8826",
      "metadata": {
        "id": "ab2e8826",
        "outputId": "fb0bd8eb-9570-4696-abae-093befaa49d9"
      },
      "outputs": [
        {
          "data": {
            "text/plain": [
              "['Take a leisurely walk in the park and enjoy the fresh air.',\n",
              " 'Visit a local museum and discover something new.',\n",
              " 'Attend a live music concert and feel the rhythm.',\n",
              " 'Go for a hike and admire the natural scenery.',\n",
              " 'Have a picnic with friends and share some laughs.',\n",
              " 'Explore a new cuisine by dining at an ethnic restaurant.',\n",
              " 'Take a yoga class and stretch your body and mind.',\n",
              " 'Join a local sports league and enjoy some friendly competition.',\n",
              " \"Attend a workshop or lecture on a topic you're interested in.\",\n",
              " 'Visit an amusement park and ride the roller coasters.']"
            ]
          },
          "execution_count": 3,
          "metadata": {},
          "output_type": "execute_result"
        }
      ],
      "source": [
        "corpus_of_documents"
      ]
    },
    {
      "cell_type": "code",
      "execution_count": null,
      "id": "8373eb8b",
      "metadata": {
        "id": "8373eb8b"
      },
      "outputs": [],
      "source": [
        "user_query=\"i am an indian and i live in india\""
      ]
    },
    {
      "cell_type": "code",
      "execution_count": null,
      "id": "2d7c4d4d",
      "metadata": {
        "id": "2d7c4d4d"
      },
      "outputs": [],
      "source": [
        "document=\"india is a country for the indians and for eveyone\""
      ]
    },
    {
      "cell_type": "code",
      "execution_count": null,
      "id": "94ff46d6",
      "metadata": {
        "id": "94ff46d6"
      },
      "outputs": [],
      "source": [
        "from collections import Counter\n",
        "import math"
      ]
    },
    {
      "cell_type": "code",
      "execution_count": null,
      "id": "e17bd813",
      "metadata": {
        "id": "e17bd813",
        "outputId": "c81e4a25-e338-4e00-d067-8e26bdb4e569"
      },
      "outputs": [
        {
          "data": {
            "text/plain": [
              "['i', 'am', 'an', 'indian', 'and', 'i', 'live', 'in', 'india']"
            ]
          },
          "execution_count": 7,
          "metadata": {},
          "output_type": "execute_result"
        }
      ],
      "source": [
        "user_query_tokens=user_query.split(\" \")\n",
        "user_query_tokens"
      ]
    },
    {
      "cell_type": "code",
      "execution_count": null,
      "id": "d1f3601e",
      "metadata": {
        "id": "d1f3601e",
        "outputId": "866a1c35-b5b2-4550-ebe8-4f009f25f30c"
      },
      "outputs": [
        {
          "data": {
            "text/plain": [
              "['india',\n",
              " 'is',\n",
              " 'a',\n",
              " 'country',\n",
              " 'for',\n",
              " 'the',\n",
              " 'indians',\n",
              " 'and',\n",
              " 'for',\n",
              " 'eveyone']"
            ]
          },
          "execution_count": 8,
          "metadata": {},
          "output_type": "execute_result"
        }
      ],
      "source": [
        "document_query_tokens=document.split(\" \")\n",
        "document_query_tokens"
      ]
    },
    {
      "cell_type": "code",
      "execution_count": null,
      "id": "ca6ea8b0",
      "metadata": {
        "id": "ca6ea8b0",
        "outputId": "dbfba428-3abd-4b64-bc91-67f2ca6d3ddf"
      },
      "outputs": [
        {
          "data": {
            "text/plain": [
              "Counter({'i': 2,\n",
              "         'am': 1,\n",
              "         'an': 1,\n",
              "         'indian': 1,\n",
              "         'and': 1,\n",
              "         'live': 1,\n",
              "         'in': 1,\n",
              "         'india': 1})"
            ]
          },
          "execution_count": 9,
          "metadata": {},
          "output_type": "execute_result"
        }
      ],
      "source": [
        "user_counter=Counter(user_query_tokens)\n",
        "user_counter"
      ]
    },
    {
      "cell_type": "code",
      "execution_count": null,
      "id": "6b2fd133",
      "metadata": {
        "id": "6b2fd133",
        "outputId": "d83b3765-76a9-4686-ecc3-0c0e9f4423f1"
      },
      "outputs": [
        {
          "data": {
            "text/plain": [
              "Counter({'india': 1,\n",
              "         'is': 1,\n",
              "         'a': 1,\n",
              "         'country': 1,\n",
              "         'for': 2,\n",
              "         'the': 1,\n",
              "         'indians': 1,\n",
              "         'and': 1,\n",
              "         'eveyone': 1})"
            ]
          },
          "execution_count": 10,
          "metadata": {},
          "output_type": "execute_result"
        }
      ],
      "source": [
        "document_counter=Counter(document_query_tokens)\n",
        "document_counter"
      ]
    },
    {
      "cell_type": "code",
      "execution_count": null,
      "id": "017c46e5",
      "metadata": {
        "id": "017c46e5"
      },
      "outputs": [],
      "source": [
        "def cosine_similarity(a,b):\n",
        "    a_t=a.split(\" \")\n",
        "    b_t=b.split(\" \")\n",
        "    a_c=Counter(a_t)\n",
        "    b_c=Counter(b_t)\n",
        "#     print(a_c)\n",
        "#     print(b_c)\n",
        "    dot_prod=0\n",
        "    for i in a_c&b_c:\n",
        "        dot_prod+=a_c[i]*b_c[i]\n",
        "#     print(dot_prod)\n",
        "    amag=math.sqrt(sum(a_c[t]**2 for t in a_c))\n",
        "    bmag=math.sqrt(sum(b_c[t]**2 for t in b_c))\n",
        "#     print(amag)\n",
        "#     print(bmag)\n",
        "    return dot_prod*(1/(amag*bmag))\n",
        "\n"
      ]
    },
    {
      "cell_type": "code",
      "execution_count": null,
      "id": "f49ca5d6",
      "metadata": {
        "id": "f49ca5d6",
        "outputId": "562259cd-b2ec-4f2a-94b0-396173834e7e"
      },
      "outputs": [
        {
          "data": {
            "text/plain": [
              "2"
            ]
          },
          "execution_count": 12,
          "metadata": {},
          "output_type": "execute_result"
        }
      ],
      "source": [
        "dot_prod=0\n",
        "for i in document_counter& user_counter:\n",
        "    dot_prod+=document_counter[i]*user_counter[i]\n",
        "dot_prod"
      ]
    },
    {
      "cell_type": "code",
      "execution_count": null,
      "id": "ec3e8db6",
      "metadata": {
        "id": "ec3e8db6",
        "outputId": "d4b35b83-821c-4f6e-c719-873d600c71e6"
      },
      "outputs": [
        {
          "data": {
            "text/plain": [
              "3.3166247903554"
            ]
          },
          "execution_count": 13,
          "metadata": {},
          "output_type": "execute_result"
        }
      ],
      "source": [
        "math.sqrt(sum(user_counter[t]**2 for t in user_counter))"
      ]
    },
    {
      "cell_type": "code",
      "execution_count": null,
      "id": "789df348",
      "metadata": {
        "id": "789df348",
        "outputId": "2cad8d0e-66b6-492b-f423-472dd38bccd7"
      },
      "outputs": [
        {
          "data": {
            "text/plain": [
              "0.17407765595569785"
            ]
          },
          "execution_count": 14,
          "metadata": {},
          "output_type": "execute_result"
        }
      ],
      "source": [
        "cosine_similarity(user_query,document)"
      ]
    },
    {
      "cell_type": "code",
      "execution_count": null,
      "id": "3e921f7a",
      "metadata": {
        "id": "3e921f7a",
        "outputId": "4cdf0cb9-619e-4e4d-93f3-80eb7a5a0a13"
      },
      "outputs": [
        {
          "name": "stdout",
          "output_type": "stream",
          "text": [
            "[0.16116459280507606, 0.10660035817780521, 0.20100756305184242, 0.10050378152592121, 0.10050378152592121, 0.09534625892455924, 0.17407765595569785, 0.09534625892455924, 0.0, 0.20100756305184242]\n",
            "Attend a live music concert and feel the rhythm.\n",
            "i am an indian and i live in india\n"
          ]
        }
      ],
      "source": [
        "sims=[]\n",
        "for i in corpus_of_documents:\n",
        "    sims.append(cosine_similarity(user_query,i))\n",
        "max_sim_doc=corpus_of_documents[sims.index(max(sims))]\n",
        "print(sims)\n",
        "print(max_sim_doc)\n",
        "print(user_query)"
      ]
    },
    {
      "cell_type": "code",
      "execution_count": null,
      "id": "83f35803",
      "metadata": {
        "id": "83f35803"
      },
      "outputs": [],
      "source": []
    },
    {
      "cell_type": "code",
      "execution_count": null,
      "id": "a1ff9553",
      "metadata": {
        "id": "a1ff9553"
      },
      "outputs": [],
      "source": [
        "def return_response(query, corpus):\n",
        "    similarities = []\n",
        "    for doc in corpus:\n",
        "        similarity = cosine_similarity(query, doc)\n",
        "        similarities.append(similarity)\n",
        "    return corpus_of_documents[similarities.index(max(similarities))]"
      ]
    },
    {
      "cell_type": "code",
      "execution_count": null,
      "id": "31d234c1",
      "metadata": {
        "id": "31d234c1",
        "outputId": "633cf14b-a48e-4ab9-f160-63d52e66bbf1"
      },
      "outputs": [
        {
          "data": {
            "text/plain": [
              "'Attend a live music concert and feel the rhythm.'"
            ]
          },
          "execution_count": 17,
          "metadata": {},
          "output_type": "execute_result"
        }
      ],
      "source": [
        "return_response(user_query,corpus_of_documents)"
      ]
    },
    {
      "cell_type": "code",
      "execution_count": null,
      "id": "cdc7eaf9",
      "metadata": {
        "id": "cdc7eaf9"
      },
      "outputs": [],
      "source": [
        "user_query=\"is yoga good for health\"\n",
        "document=\"yoga is very good for living healthy lifesytle.\""
      ]
    },
    {
      "cell_type": "code",
      "execution_count": null,
      "id": "0b84b501",
      "metadata": {
        "id": "0b84b501"
      },
      "outputs": [],
      "source": [
        "def cosine_similarity(query, document):\n",
        "    # Tokenize and convert to lowercase\n",
        "    query_tokens = query.lower().split(\" \")\n",
        "    document_tokens = document.lower().split(\" \")\n",
        "\n",
        "    # Create Counters for query and document\n",
        "    query_counter = Counter(query_tokens)\n",
        "    document_counter = Counter(document_tokens)\n",
        "\n",
        "    # Calculate dot product\n",
        "    dot_product = sum(query_counter[token] * document_counter[token] for token in query_counter.keys() & document_counter.keys())\n",
        "\n",
        "    # Calculate magnitudes\n",
        "    query_magnitude = math.sqrt(sum(query_counter[token] ** 2 for token in query_counter))\n",
        "    document_magnitude = math.sqrt(sum(document_counter[token] ** 2 for token in document_counter))\n",
        "\n",
        "    # Calculate cosine similarity\n",
        "    similarity = dot_product / (query_magnitude * document_magnitude) if query_magnitude * document_magnitude != 0 else 0\n",
        "\n",
        "    return similarity"
      ]
    },
    {
      "cell_type": "code",
      "execution_count": null,
      "id": "96fd5f82",
      "metadata": {
        "id": "96fd5f82",
        "outputId": "9ec9c5b3-e955-453b-8c81-1b8fa730df32"
      },
      "outputs": [
        {
          "data": {
            "text/plain": [
              "0.6324555320336759"
            ]
          },
          "execution_count": 20,
          "metadata": {},
          "output_type": "execute_result"
        }
      ],
      "source": [
        "cosine_similarity(user_query,document)"
      ]
    },
    {
      "cell_type": "code",
      "execution_count": null,
      "id": "5b6319a3",
      "metadata": {
        "id": "5b6319a3"
      },
      "outputs": [],
      "source": [
        "def return_response(query, corpus):\n",
        "    similarities = []\n",
        "    for doc in corpus:\n",
        "        similarity = cosine_similarity(query, doc)\n",
        "        similarities.append(similarity)\n",
        "    return corpus_of_documents[similarities.index(max(similarities))]"
      ]
    },
    {
      "cell_type": "code",
      "execution_count": null,
      "id": "68c46a61",
      "metadata": {
        "id": "68c46a61",
        "outputId": "f975847e-56b2-4840-d75e-b7b9e5fce9b5"
      },
      "outputs": [
        {
          "data": {
            "text/plain": [
              "['Take a leisurely walk in the park and enjoy the fresh air.',\n",
              " 'Visit a local museum and discover something new.',\n",
              " 'Attend a live music concert and feel the rhythm.',\n",
              " 'Go for a hike and admire the natural scenery.',\n",
              " 'Have a picnic with friends and share some laughs.',\n",
              " 'Explore a new cuisine by dining at an ethnic restaurant.',\n",
              " 'Take a yoga class and stretch your body and mind.',\n",
              " 'Join a local sports league and enjoy some friendly competition.',\n",
              " \"Attend a workshop or lecture on a topic you're interested in.\",\n",
              " 'Visit an amusement park and ride the roller coasters.']"
            ]
          },
          "execution_count": 22,
          "metadata": {},
          "output_type": "execute_result"
        }
      ],
      "source": [
        "corpus_of_documents"
      ]
    },
    {
      "cell_type": "code",
      "execution_count": null,
      "id": "a23f76bb",
      "metadata": {
        "id": "a23f76bb",
        "outputId": "1bde09a7-a2c1-4798-ea33-a79a5c4b405a"
      },
      "outputs": [
        {
          "data": {
            "text/plain": [
              "'Take a leisurely walk in the park and enjoy the fresh air.'"
            ]
          },
          "execution_count": 23,
          "metadata": {},
          "output_type": "execute_result"
        }
      ],
      "source": [
        "user_input=\"i like fresh air.\"\n",
        "return_response(user_input,corpus_of_documents)"
      ]
    },
    {
      "cell_type": "code",
      "execution_count": null,
      "id": "ee430cb1",
      "metadata": {
        "id": "ee430cb1"
      },
      "outputs": [],
      "source": [
        "relevant_document=return_response(user_query,corpus_of_documents)"
      ]
    },
    {
      "cell_type": "code",
      "execution_count": null,
      "id": "e4efe338",
      "metadata": {
        "id": "e4efe338"
      },
      "outputs": [],
      "source": [
        "import requests\n",
        "import json\n"
      ]
    },
    {
      "cell_type": "code",
      "execution_count": null,
      "id": "0faf6622",
      "metadata": {
        "id": "0faf6622",
        "outputId": "07e9c17d-e265-4f17-e879-ae39156d792b"
      },
      "outputs": [
        {
          "name": "stdout",
          "output_type": "stream",
          "text": [
            " Great! Based on your interest in fresh air, I recommend going for a hike in a nearby nature reserve or park. Not only will you get to enjoy the great outdoors, but you'll also be surrounded by the invigorating scent of trees and flowers. Let me know if you need any more recommendations!\n"
          ]
        }
      ],
      "source": [
        "full_response = []\n",
        "prompt = \"\"\"\n",
        "You are a bot that makes recommendations for activities. You answer in very short sentences and do not include extra information.\n",
        "This is the recommended activity: {relevant_document}\n",
        "The user input is: {user_input}\n",
        "Compile a recommendation to the user based on the recommended activity and the user input.\n",
        "\"\"\"\n",
        "\n",
        "url = 'http://localhost:11434/api/generate'\n",
        "\n",
        "\n",
        "data = {\n",
        "    \"model\": \"llama2\",\n",
        "    \"prompt\": prompt.format(user_input=user_input, relevant_document=relevant_document)\n",
        "}\n",
        "\n",
        "headers = {'Content-Type': 'application/json'}\n",
        "\n",
        "response = requests.post(url, data=json.dumps(data), headers=headers, stream=True)\n",
        "\n",
        "\n",
        "try:\n",
        "    for line in response.iter_lines():\n",
        "        # filter out keep-alive new lines\n",
        "        if line:\n",
        "            decoded_line = json.loads(line.decode('utf-8'))\n",
        "            # print(decoded_line['response'])  # uncomment to results, token by token\n",
        "            full_response.append(decoded_line['response'])\n",
        "finally:\n",
        "    response.close()\n",
        "\n",
        "\n",
        "print(''.join(full_response))"
      ]
    }
  ],
  "metadata": {
    "kernelspec": {
      "display_name": "Python 3 (ipykernel)",
      "language": "python",
      "name": "python3"
    },
    "language_info": {
      "codemirror_mode": {
        "name": "ipython",
        "version": 3
      },
      "file_extension": ".py",
      "mimetype": "text/x-python",
      "name": "python",
      "nbconvert_exporter": "python",
      "pygments_lexer": "ipython3",
      "version": "3.10.9"
    },
    "colab": {
      "provenance": [],
      "include_colab_link": true
    }
  },
  "nbformat": 4,
  "nbformat_minor": 5
}